{
 "cells": [
  {
   "cell_type": "code",
   "execution_count": null,
   "metadata": {},
   "outputs": [],
   "source": [
    "# I played around with different numbers of estimators and different numbers of features\n",
    "#From A. Muller https://github.com/amueller/mglearn/blob/master/mglearn/tools.py\n",
    "import numpy as np\n",
    "import matplotlib as mpl\n",
    "import matplotlib.pyplot as plt\n",
    "from matplotlib.colors import ListedColormap, colorConverter, LinearSegmentedColormap\n",
    "import pandas as pd\n",
    "import os\n",
    "%matplotlib inline\n",
    "\n",
    "#set datadir based on cwd\n",
    "cwd = os.getcwd()\n",
    "\n",
    "#OSX\n",
    "#datadir = cwd + '/data/'\n",
    "df = pd.read_csv('A:\\\\Aditya\\\\NYU\\\\Assignments\\\\DwD\\\\DM_Project\\\\lending-club-loan-data\\\\loan_data_clean.csv',index_col=0)\n"
   ]
  },
  {
   "cell_type": "code",
   "execution_count": null,
   "metadata": {},
   "outputs": [],
   "source": [
    "df.addr_state.head()"
   ]
  },
  {
   "cell_type": "code",
   "execution_count": null,
   "metadata": {},
   "outputs": [],
   "source": [
    "# added a random_state so we will get the same results each time we run\n",
    "train_df = df.sample(frac=0.7, replace=False, random_state = 42)\n",
    "test_df = df[~df.index.isin(train_df.index)]\n",
    "\n",
    "#check if train_df and test_df overlap\n",
    "len(train_df) + len(test_df) == len(df)"
   ]
  },
  {
   "cell_type": "code",
   "execution_count": null,
   "metadata": {},
   "outputs": [],
   "source": [
    "#Declare target variable, training data and testing data\n",
    "target = 'loan_status'\n",
    "train = train_df\n",
    "test = test_df\n",
    "\n",
    "#Set up X Y\n",
    "X_train = train.drop(target, 1)\n",
    "Y_train = train[target]\n",
    "X_test = test.drop(target, 1)\n",
    "Y_test = test[target]"
   ]
  },
  {
   "cell_type": "code",
   "execution_count": null,
   "metadata": {},
   "outputs": [],
   "source": [
    "import seaborn as sns\n",
    "from sklearn.metrics import roc_curve, auc,roc_auc_score\n",
    "%matplotlib inline\n",
    "from sklearn.model_selection import KFold\n",
    "from sklearn.feature_selection import mutual_info_classif\n",
    "from sklearn.linear_model import LogisticRegression\n",
    "from sklearn.metrics import classification_report\n",
    "from sklearn.model_selection import GridSearchCV\n",
    "from sklearn.pipeline import Pipeline\n",
    "from sklearn.preprocessing import StandardScaler\n",
    "from sklearn.preprocessing import PolynomialFeatures"
   ]
  },
  {
   "cell_type": "code",
   "execution_count": null,
   "metadata": {},
   "outputs": [],
   "source": [
    "#Create the function to calculate and return auc score\n",
    "def AUCCal(preds, truth, label_string):\n",
    "    '''\n",
    "    preds is an nx1 array of predictions\n",
    "    truth is an nx1 array of truth labels\n",
    "    label_string is text to go into the plotting label\n",
    "    '''\n",
    "    \n",
    "    #1. call the roc_curve function to get the ROC X and Y values\n",
    "    fpr, tpr, thresholds = roc_curve(truth, preds)\n",
    "    #2. Input fpr and tpr into the auc function to get the AUC\n",
    "    roc_auc = auc(fpr, tpr)\n",
    "    \n",
    "    if roc_auc < 0.5:\n",
    "        fpr, tpr, thresholds = roc_curve(truth, -1 * preds)\n",
    "        roc_auc = auc(fpr, tpr)\n",
    "    \n",
    "    plt.plot(fpr, tpr, label = str(col) + ' (AUC = %0.3f)' % roc_auc)\n",
    "    plt.plot([0, 1], [0, 1], 'k--')\n",
    "    plt.xlim([0.0, 1.0])\n",
    "    plt.ylim([0.0, 1.0])\n",
    "    \n",
    "    return roc_auc"
   ]
  },
  {
   "cell_type": "code",
   "execution_count": null,
   "metadata": {},
   "outputs": [],
   "source": [
    "#Check auc scores for all features\n",
    "featureset = list(X_train.columns.values)\n",
    "feature_auc_dict = {}\n",
    "\n",
    "\n",
    "fig = plt.figure(figsize = (12, 6))\n",
    "ax = plt.subplot(111)\n",
    "#create a plot and set some options\n",
    "for col in X_train.columns:\n",
    "    feature_auc_dict[col] = AUCCal(X_train[col],Y_train,col)\n",
    "    \n",
    "ax.set_xlabel('FPR')\n",
    "ax.set_ylabel('TPR')\n",
    "plt.title('ROC')\n",
    "plt.legend(loc=\"lower right\")\n",
    "    \n",
    "\n",
    "# Put a legend below current axis\n",
    "box = ax.get_position()\n",
    "ax.set_position([box.x0, box.y0 + box.height * 0.0 , box.width, box.height * 1])\n",
    "ax.legend(loc = 'upper center', bbox_to_anchor = (0.5, -0.15), fancybox = True, \n",
    "              shadow = True, ncol = 4, prop = {'size':10})"
   ]
  },
  {
   "cell_type": "code",
   "execution_count": null,
   "metadata": {},
   "outputs": [],
   "source": [
    "from sklearn.ensemble import RandomForestClassifier\n",
    "\n",
    "rf_best = RandomForestClassifier(criterion='entropy')\n",
    "rf_best = rf_best.fit(X_train, Y_train)\n",
    "\n"
   ]
  },
  {
   "cell_type": "code",
   "execution_count": null,
   "metadata": {},
   "outputs": [],
   "source": [
    "%matplotlib inline\n",
    "cols = X_train.columns.values\n",
    "rf_fi = rf_best.feature_importances_\n",
    "\n",
    "fig, ax = plt.subplots(figsize=(25, 10))\n",
    "\n",
    "ax.bar(np.arange(len(cols)), rf_fi, width, color='b', label='RF')\n",
    "\n",
    "\n",
    "ax.set_xticks(np.arange(len(cols)))\n",
    "ax.set_xticklabels(cols, rotation=45)\n",
    "plt.title('Feature Importance from RF')\n",
    "ax.set_ylabel('Normalized Gini Importance')\n",
    "plt.legend(loc=1)"
   ]
  }
 ],
 "metadata": {
  "kernelspec": {
   "display_name": "Python 3",
   "language": "python",
   "name": "python3"
  },
  "language_info": {
   "codemirror_mode": {
    "name": "ipython",
    "version": 3
   },
   "file_extension": ".py",
   "mimetype": "text/x-python",
   "name": "python",
   "nbconvert_exporter": "python",
   "pygments_lexer": "ipython3",
   "version": "3.6.4"
  }
 },
 "nbformat": 4,
 "nbformat_minor": 2
}
